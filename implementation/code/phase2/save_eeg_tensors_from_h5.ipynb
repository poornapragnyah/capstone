{
 "cells": [
  {
   "cell_type": "code",
   "execution_count": 2,
   "id": "84289d25-12ef-4c78-9de7-fb76bbd0394d",
   "metadata": {
    "scrolled": true
   },
   "outputs": [
    {
     "name": "stdout",
     "output_type": "stream",
     "text": [
      "Successfully loaded EEG tensors from '/home/sanu/from_poorna/eeg_dataset.h5'.\n",
      "Shape of loaded all_eeg_tensors: torch.Size([28000, 62, 400])\n",
      "Successfully saved all EEG tensors to '/home/sanu/venvs/capstone/implementation/code/phase2/eeg_tensors.pt'.\n",
      "\n",
      "Verifying by loading from /home/sanu/venvs/capstone/implementation/code/phase2/eeg_tensors.pt...\n",
      "Successfully reloaded EEG tensors. Shape: torch.Size([28000, 62, 400])\n",
      "Loaded and reloaded tensors are identical.\n"
     ]
    }
   ],
   "source": [
    "import h5py\n",
    "import torch\n",
    "\n",
    "# Define the path to your HDF5 file\n",
    "HDF5_FILE = \"/home/sanu/from_poorna/eeg_dataset.h5\"\n",
    "OUTPUT_PT_FILE = \"/home/sanu/venvs/capstone/implementation/code/phase2/eeg_tensors.pt\"\n",
    "\n",
    "def load_eeg_from_h5_and_save_pt(h5_file_path, output_pt_file_path):\n",
    "    \"\"\"\n",
    "    Loads all EEG tensors from a specified HDF5 file and saves them as a .pt file.\n",
    "\n",
    "    Args:\n",
    "        h5_file_path (str): The path to the HDF5 file.\n",
    "        output_pt_file_path (str): The path where the .pt file will be saved.\n",
    "\n",
    "    Returns:\n",
    "        torch.Tensor: A tensor containing all EEG data.\n",
    "                      Returns None if the file or dataset is not found or an error occurs.\n",
    "    \"\"\"\n",
    "    try:\n",
    "        # Open the HDF5 file in read mode ('r')\n",
    "        with h5py.File(h5_file_path, \"r\") as f:\n",
    "            # Access the dataset named 'eeg'\n",
    "            eeg_data_hdf5 = f[\"eeg\"]\n",
    "            \n",
    "            # Load all data from the HDF5 dataset into a PyTorch tensor\n",
    "            all_eeg_tensors = torch.tensor(eeg_data_hdf5[:], dtype=torch.float32)\n",
    "            \n",
    "            print(f\"Successfully loaded EEG tensors from '{h5_file_path}'.\")\n",
    "            print(f\"Shape of loaded all_eeg_tensors: {all_eeg_tensors.shape}\")\n",
    "            \n",
    "            # --- Save the PyTorch tensor to a .pt file ---\n",
    "            torch.save(all_eeg_tensors, output_pt_file_path)\n",
    "            print(f\"Successfully saved all EEG tensors to '{output_pt_file_path}'.\")\n",
    "            \n",
    "            return all_eeg_tensors\n",
    "            \n",
    "    except FileNotFoundError:\n",
    "        print(f\"Error: The file '{h5_file_path}' was not found. Please ensure it exists.\")\n",
    "        return None\n",
    "    except KeyError:\n",
    "        print(f\"Error: The dataset 'eeg' was not found in '{h5_file_path}'.\")\n",
    "        return None\n",
    "    except Exception as e:\n",
    "        print(f\"An unexpected error occurred: {e}\")\n",
    "        return None\n",
    "\n",
    "# --- Example Usage ---\n",
    "if __name__ == \"__main__\":\n",
    "    # Call the function to load and save your EEG data\n",
    "    loaded_eeg_data = load_eeg_from_h5_and_save_pt(HDF5_FILE, OUTPUT_PT_FILE)\n",
    "\n",
    "    if loaded_eeg_data is not None:\n",
    "        # You can also load the .pt file back to verify\n",
    "        print(f\"\\nVerifying by loading from {OUTPUT_PT_FILE}...\")\n",
    "        try:\n",
    "            reloaded_eeg_data = torch.load(OUTPUT_PT_FILE)\n",
    "            print(f\"Successfully reloaded EEG tensors. Shape: {reloaded_eeg_data.shape}\")\n",
    "            # You can add more checks here, e.g., to ensure data integrity\n",
    "            if torch.equal(loaded_eeg_data, reloaded_eeg_data):\n",
    "                print(\"Loaded and reloaded tensors are identical.\")\n",
    "            else:\n",
    "                print(\"Warning: Loaded and reloaded tensors differ.\")\n",
    "        except Exception as e:\n",
    "            print(f\"Error reloading .pt file: {e}\")\n"
   ]
  },
  {
   "cell_type": "code",
   "execution_count": null,
   "id": "40916c5f-7de6-4d37-93eb-ca3ffaa0a92e",
   "metadata": {},
   "outputs": [],
   "source": [
    "# X matrix represents raw signal amplitude for all 62 EEG channels at one specific moment in time. So, for each brain activity \"snapshot,\" you'll have:\n",
    "\n",
    "# 62 Rows: One row for each EEG channel.\n",
    "\n",
    "# 1 Column: The single amplitude value recorded at that exact time point for that channel.\n"
   ]
  }
 ],
 "metadata": {
  "kernelspec": {
   "display_name": "Capstone venv",
   "language": "python",
   "name": "venv_name"
  },
  "language_info": {
   "codemirror_mode": {
    "name": "ipython",
    "version": 3
   },
   "file_extension": ".py",
   "mimetype": "text/x-python",
   "name": "python",
   "nbconvert_exporter": "python",
   "pygments_lexer": "ipython3",
   "version": "3.13.5"
  }
 },
 "nbformat": 4,
 "nbformat_minor": 5
}
